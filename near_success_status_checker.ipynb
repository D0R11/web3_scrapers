{
 "cells": [
  {
   "cell_type": "code",
   "execution_count": 74,
   "id": "2d42e919-14c5-495c-8715-a6d661790858",
   "metadata": {},
   "outputs": [
    {
     "data": {
      "text/plain": [
       "'en_US.UTF8'"
      ]
     },
     "execution_count": 74,
     "metadata": {},
     "output_type": "execute_result"
    }
   ],
   "source": [
    "import pandas as pd\n",
    "import time\n",
    "import requests\n",
    "import numpy as np\n",
    "import aiohttp \n",
    "import asyncio\n",
    "# from Utils import scraping_essentials as se\n",
    "locale.setlocale(locale.LC_ALL, 'en_US.UTF8')"
   ]
  },
  {
   "cell_type": "code",
   "execution_count": 97,
   "id": "3533d353-3f2b-4b50-9a39-d818c4a8af68",
   "metadata": {},
   "outputs": [],
   "source": [
    "df = pd.read_csv('Transaction Status to silver__transactions+ - success_value.csv')"
   ]
  },
  {
   "cell_type": "code",
   "execution_count": 98,
   "id": "58eda0c0-94b5-4fc2-9d0f-f4f4cfb80959",
   "metadata": {},
   "outputs": [],
   "source": [
    "tx_status = []"
   ]
  },
  {
   "cell_type": "code",
   "execution_count": 99,
   "id": "6d724d95-ab3e-4bc6-864a-261b49ec6350",
   "metadata": {},
   "outputs": [],
   "source": [
    "async def get_response(session, url):\n",
    "    async with session.get(url) as resp:\n",
    "        text = await resp.json()\n",
    "        return \"Success\" if text['txn']['status'] == 'Succeeded' else \"Failure\""
   ]
  },
  {
   "cell_type": "code",
   "execution_count": 100,
   "id": "9d7f3688-3758-4acb-919e-9275d0400167",
   "metadata": {},
   "outputs": [
    {
     "name": "stdout",
     "output_type": "stream",
     "text": [
      "183.42 seconds\n"
     ]
    }
   ],
   "source": [
    "async with aiohttp.ClientSession() as session:\n",
    "    tasks = []\n",
    "    start_time = time.time()\n",
    "    for tx in df['TX_HASH']:\n",
    "        url = f'https://nearblocks.io/api/txn?hash={tx}'\n",
    "        tasks.append(asyncio.create_task(get_response(session, url)))\n",
    "    results = await asyncio.gather(*tasks)\n",
    "    for result in results:\n",
    "        tx_status.append(result)\n",
    "    print(f\"{(time.time() - start_time):.2f} seconds\")"
   ]
  },
  {
   "cell_type": "code",
   "execution_count": 101,
   "id": "6318d995-9b77-4042-ab78-e8a406e2f9bf",
   "metadata": {},
   "outputs": [],
   "source": [
    "df['tx_status'] = tx_status"
   ]
  },
  {
   "cell_type": "code",
   "execution_count": 104,
   "id": "218d0ed4-0727-4ccf-b461-07bc44b39a95",
   "metadata": {},
   "outputs": [
    {
     "data": {
      "text/plain": [
       "Success    9695\n",
       "Failure     305\n",
       "Name: tx_status, dtype: int64"
      ]
     },
     "execution_count": 104,
     "metadata": {},
     "output_type": "execute_result"
    }
   ],
   "source": [
    "df['tx_status'].value_counts()"
   ]
  },
  {
   "cell_type": "code",
   "execution_count": 105,
   "id": "dc39188e-3d5b-4e94-940d-6c269cece2de",
   "metadata": {},
   "outputs": [],
   "source": [
    "df.to_csv(\"output - all txs with successValue and Failure receipts.csv\",index=False)"
   ]
  },
  {
   "cell_type": "code",
   "execution_count": null,
   "id": "7c615ff9-8170-41e0-816a-db8f66e68f4f",
   "metadata": {},
   "outputs": [],
   "source": []
  }
 ],
 "metadata": {
  "kernelspec": {
   "display_name": "Python 3 (ipykernel)",
   "language": "python",
   "name": "python3"
  },
  "language_info": {
   "codemirror_mode": {
    "name": "ipython",
    "version": 3
   },
   "file_extension": ".py",
   "mimetype": "text/x-python",
   "name": "python",
   "nbconvert_exporter": "python",
   "pygments_lexer": "ipython3",
   "version": "3.8.8"
  }
 },
 "nbformat": 4,
 "nbformat_minor": 5
}
